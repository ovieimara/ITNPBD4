{
  "nbformat": 4,
  "nbformat_minor": 0,
  "metadata": {
    "colab": {
      "provenance": [],
      "include_colab_link": true
    },
    "kernelspec": {
      "name": "python3",
      "display_name": "Python 3"
    },
    "language_info": {
      "name": "python"
    }
  },
  "cells": [
    {
      "cell_type": "markdown",
      "metadata": {
        "id": "view-in-github",
        "colab_type": "text"
      },
      "source": [
        "<a href=\"https://colab.research.google.com/github/ovieimara/ITNPBD4/blob/master/TS_generation.ipynb\" target=\"_parent\"><img src=\"https://colab.research.google.com/assets/colab-badge.svg\" alt=\"Open In Colab\"/></a>"
      ]
    },
    {
      "cell_type": "markdown",
      "source": [
        "#This Notebook will help you generate synthetic datasets for Time Series. Instructions for setting parameters can be found at the end of the Notebook.\n",
        "##The generated Time Series are plotted and saved in a .csv file. After generation the Notebook provides a decomposition of the Time series. It is up to you to find the correct set of parameters based on the instructions provided and through inspecting the code below."
      ],
      "metadata": {
        "id": "RfTocI1Utif7"
      }
    },
    {
      "cell_type": "code",
      "source": [
        "import numpy as np\n",
        "import pandas as pd\n",
        "import matplotlib.pyplot as plt\n",
        "from statsmodels.tsa.seasonal import seasonal_decompose\n",
        "\n",
        "def generate_time_series(n_periods=100, frequency='days', trend_slope=0.3, seasonal_period='monthly', seasonal_amplitude=5, noise_level=0.5):\n",
        "    # Set frequency based on the input (days, months, or weeks)\n",
        "    if frequency == 'days':\n",
        "        freq = 'D'\n",
        "        time_index = pd.date_range(start='2024-01-01', periods=n_periods, freq=freq)\n",
        "    elif frequency == 'months':\n",
        "        freq = 'M'\n",
        "        time_index = pd.date_range(start='2024-01-01', periods=n_periods, freq=freq)\n",
        "    elif frequency == 'weeks':\n",
        "        freq = 'W'\n",
        "        time_index = pd.date_range(start='2024-01-01', periods=n_periods, freq=freq)\n",
        "    else:\n",
        "        raise ValueError(\"Frequency should be 'days', 'months', or 'weeks'.\")\n",
        "\n",
        "    # 1. Create a linear trend: A simple increasing trend from 0 to trend_slope * n_periods\n",
        "    trend = np.linspace(0, trend_slope * n_periods, n_periods)  # Linear trend\n",
        "\n",
        "    # 2. Add seasonality based on the chosen period (weekly, monthly, or annual)\n",
        "    seasonal_component = np.zeros(n_periods)\n",
        "    if seasonal_period == 'monthly':\n",
        "        # One full cycle per year (12 months)\n",
        "        seasonal_frequency = 2 * np.pi / 12  # For monthly frequency\n",
        "    elif seasonal_period == 'weekly':\n",
        "        # One full cycle per year (52 weeks)\n",
        "        seasonal_frequency = 2 * np.pi / 52  # For weekly frequency\n",
        "    elif seasonal_period == 'annual':\n",
        "        # One full cycle per year (365 days)\n",
        "        seasonal_frequency = 2 * np.pi / 365  # For annual frequency\n",
        "    else:\n",
        "        raise ValueError(\"Seasonal period should be 'monthly', 'weekly', or 'annual'.\")\n",
        "\n",
        "    # Smooth seasonal component (sine wave with the defined frequency)\n",
        "    seasonal_component = seasonal_amplitude * np.sin(np.linspace(0, seasonal_frequency * n_periods, n_periods))\n",
        "\n",
        "    # 3. Add minimal noise to the time series to make the residuals more realistic\n",
        "    noise = np.random.normal(0, noise_level, n_periods)\n",
        "\n",
        "    # 4. Combine the trend and seasonality\n",
        "    time_series = trend + seasonal_component + noise\n",
        "\n",
        "    # Prepare data for CSV output\n",
        "    data = {'Time': time_index[:len(time_series)], 'Value': time_series}\n",
        "    df = pd.DataFrame(data)\n",
        "\n",
        "    # Plot the time series\n",
        "    plt.figure(figsize=(10, 6))\n",
        "    plt.plot(df['Time'], df['Value'], label='Generated Time Series')\n",
        "    plt.title('Generated Time Series Data with Trend and Seasonality')\n",
        "    plt.xlabel('Time')\n",
        "    plt.ylabel('Value')\n",
        "    plt.grid(True)\n",
        "    plt.legend()\n",
        "    plt.show()\n",
        "\n",
        "    # Save to CSV\n",
        "    df.to_csv('generated_time_series.csv', index=False)\n",
        "    print(\"Time series data saved to 'generated_time_series.csv'.\")\n",
        "\n",
        "    return df\n",
        "\n",
        "#\n",
        "def decompose_time_series(df, frequency='D'):\n",
        "    # Ensure the 'Time' column is in datetime format\n",
        "    df['Time'] = pd.to_datetime(df['Time'])\n",
        "\n",
        "    # Set 'Time' as the index\n",
        "    df.set_index('Time', inplace=True)\n",
        "\n",
        "    # Perform decomposition\n",
        "    decomposition = seasonal_decompose(df['Value'], model='additive', period=365 if frequency == 'days' else 12)\n",
        "\n",
        "    # Plot the decomposed components\n",
        "    plt.figure(figsize=(12, 8))\n",
        "\n",
        "    plt.subplot(411)\n",
        "    plt.plot(decomposition.observed, label='Observed')\n",
        "    plt.title('Observed')\n",
        "\n",
        "    plt.subplot(412)\n",
        "    plt.plot(decomposition.trend, label='Trend', color='orange')\n",
        "    plt.title('Trend')\n",
        "\n",
        "    plt.subplot(413)\n",
        "    plt.plot(decomposition.seasonal, label='Seasonal', color='green')\n",
        "    plt.title('Seasonal')\n",
        "\n",
        "    plt.subplot(414)\n",
        "    plt.plot(decomposition.resid, label='Residuals', color='red')\n",
        "    plt.title('Residuals')\n",
        "\n",
        "    plt.tight_layout()\n",
        "    plt.show()\n",
        "\n",
        "# Example usage of the function\n",
        "df = generate_time_series(n_periods=200, frequency='months', trend_slope=0.25, seasonal_period='monthly', seasonal_amplitude=5, noise_level=0.9)\n",
        "\n",
        "decompose_time_series(df)\n",
        "\n"
      ],
      "metadata": {
        "id": "PmmNb_YRI4tI"
      },
      "execution_count": null,
      "outputs": []
    },
    {
      "cell_type": "markdown",
      "source": [
        "1. n_periods (Number of Time Steps)\n",
        "\n",
        "    Description: Specifies how many data points you want to generate.\n",
        "    Usage: Affects the length of the time series.\n",
        "    Example Values:\n",
        "        n_periods=100 for a short time series.\n",
        "        n_periods=500 for a longer time series.\n",
        "    Default: 100."
      ],
      "metadata": {
        "id": "iMMuezmrs3LC"
      }
    },
    {
      "cell_type": "markdown",
      "source": [
        "2. frequency (Time Frequency)\n",
        "\n",
        "    Description: Defines the time intervals of the series.\n",
        "    Options:\n",
        "        'days': Daily time intervals.\n",
        "        'weeks': Weekly time intervals.\n",
        "        'months': Monthly time intervals.\n",
        "    Usage: Determines the time range of the time series.\n",
        "    Example Values:\n",
        "        frequency='days' for daily observations.\n",
        "        frequency='weeks' for weekly data.\n",
        "        frequency='months' for monthly data.\n",
        "    Default: 'days'."
      ],
      "metadata": {
        "id": "shZlGL89s5vF"
      }
    },
    {
      "cell_type": "markdown",
      "source": [
        "3. trend_slope (Linear Trend Slope)\n",
        "\n",
        "    Description: Controls how quickly the trend increases over time.\n",
        "    Usage: Affects the magnitude of the overall increase in the series.\n",
        "    Example Values:\n",
        "        trend_slope=0.1: A slow-growing trend.\n",
        "        trend_slope=0.5: A faster-growing trend.\n",
        "        trend_slope=0: No trend (flat).\n",
        "    Default: 0.3."
      ],
      "metadata": {
        "id": "qVUSYeUJtDSm"
      }
    },
    {
      "cell_type": "markdown",
      "source": [
        "4. seasonal_period (Seasonal Pattern)\n",
        "\n",
        "    Description: Specifies the type of seasonality to include in the series.\n",
        "    Options:\n",
        "        'monthly': Seasonal variations occur every 12 periods (e.g., months in a year).\n",
        "        'weekly': Seasonal variations occur every 52 periods (e.g., weeks in a year).\n",
        "        'annual': Seasonal variations occur every 365 periods (e.g., days in a year).\n",
        "    Usage: Adjust this to reflect real-world seasonality based on the data's frequency.\n",
        "    Example Values:\n",
        "        seasonal_period='monthly' for sales data.\n",
        "        seasonal_period='weekly' for weekly activity patterns.\n",
        "        seasonal_period='annual' for long-term trends.\n",
        "    Default: 'monthly'."
      ],
      "metadata": {
        "id": "2PL6_jnTtFWR"
      }
    },
    {
      "cell_type": "markdown",
      "source": [
        "5. seasonal_amplitude (Strength of Seasonality)\n",
        "\n",
        "    Description: Controls the magnitude of the seasonal fluctuations.\n",
        "    Usage: Sets the \"height\" of seasonal oscillations relative to the trend.\n",
        "    Example Values:\n",
        "        seasonal_amplitude=2: Subtle seasonal variation.\n",
        "        seasonal_amplitude=10: Strong seasonal variation.\n",
        "    Default: 5."
      ],
      "metadata": {
        "id": "HRSX7-uMtJkE"
      }
    },
    {
      "cell_type": "markdown",
      "source": [
        "6. noise_level (Random Variation)\n",
        "\n",
        "    Description: Adds random noise to simulate natural variability in the data.\n",
        "    Usage: Higher values create noisier data, while lower values make it smoother.\n",
        "    Example Values:\n",
        "        noise_level=0: No noise.\n",
        "        noise_level=0.5: Moderate noise.\n",
        "        noise_level=2: High noise.\n",
        "    Default: 0.5."
      ],
      "metadata": {
        "id": "7IVrIt6OtOHv"
      }
    },
    {
      "cell_type": "markdown",
      "source": [
        "Tips for Setting Parameters:\n",
        "\n",
        "    Match Seasonality to Frequency: Ensure that the seasonal_period makes sense for the chosen frequency.\n",
        "        Example: For frequency='months', use seasonal_period='monthly' for realistic results.\n",
        "    Control Noise for Clarity: Use noise_level=0 for clean series or increase it slightly (e.g., 0.2) to simulate real-world randomness.\n",
        "    Trend Dominance: Ensure the trend_slope is much larger than seasonal_amplitude if you want the trend to dominate over seasonality."
      ],
      "metadata": {
        "id": "E0H_jzVqtap2"
      }
    }
  ]
}